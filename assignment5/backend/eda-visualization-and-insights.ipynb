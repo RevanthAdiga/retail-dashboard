{
 "cells": [
  {
   "cell_type": "markdown",
   "metadata": {
    "papermill": {
     "duration": 0.008172,
     "end_time": "2020-08-23T12:43:15.970612",
     "exception": false,
     "start_time": "2020-08-23T12:43:15.962440",
     "status": "completed"
    },
    "tags": []
   },
   "source": [
    "<font color='red'>**If you find this notebook insightful then treat me with an upvote 😃**.</font>\n"
   ]
  },
  {
   "cell_type": "markdown",
   "metadata": {
    "papermill": {
     "duration": 0.005601,
     "end_time": "2020-08-23T12:43:15.982247",
     "exception": false,
     "start_time": "2020-08-23T12:43:15.976646",
     "status": "completed"
    },
    "tags": []
   },
   "source": [
    "**About the data** : \n",
    "Context\n",
    "In the recent killings, a hot topic came into being, \"Racism\".\n",
    "So, I chose to gather some data to take out some insights and analyze the story around racism in America.\n",
    "I downloaded the raw data from kaggle and prepared it for visualization while correcting values, handling missing content, normalization and categorization\n",
    "\n",
    "Content\n",
    "It contains basic data about people like their name, age, gender and race. Along with it, is the shooting/killing information, like date of event, where it happened? how they were shot? did they attack? Were they holding weapons? Did they show any mental illness? Was the policeman wearing a camera/was the incident recorded? Did the suspect flee? Apart from that, a category column holds type of weapon used by the suspect"
   ]
  },
  {
   "cell_type": "markdown",
   "metadata": {
    "papermill": {
     "duration": 0.005437,
     "end_time": "2020-08-23T12:43:15.993427",
     "exception": false,
     "start_time": "2020-08-23T12:43:15.987990",
     "status": "completed"
    },
    "tags": []
   },
   "source": [
    "![](https://static.scientificamerican.com/sciam/cache/file/4D9B28B7-2EE8-4922-AB3CA077014DE691_source.jpg?w=590&h=800&F98B3099-E2B6-4A75-AB8A6C07E6D57741)"
   ]
  },
  {
   "cell_type": "code",
   "execution_count": 3,
   "metadata": {
    "_cell_guid": "b1076dfc-b9ad-4769-8c92-a6c4dae69d19",
    "_uuid": "8f2839f25d086af736a60e9eeb907d3b93b6e0e5",
    "execution": {
     "iopub.execute_input": "2020-08-23T12:43:16.010659Z",
     "iopub.status.busy": "2020-08-23T12:43:16.009799Z",
     "iopub.status.idle": "2020-08-23T12:43:16.999778Z",
     "shell.execute_reply": "2020-08-23T12:43:16.999091Z"
    },
    "papermill": {
     "duration": 1.000676,
     "end_time": "2020-08-23T12:43:16.999924",
     "exception": false,
     "start_time": "2020-08-23T12:43:15.999248",
     "status": "completed"
    },
    "tags": []
   },
   "outputs": [],
   "source": [
    "import pandas as pd\n",
    "import numpy as np\n",
    "import seaborn as sns\n",
    "import matplotlib.pyplot as plt"
   ]
  },
  {
   "cell_type": "code",
   "execution_count": 4,
   "metadata": {
    "execution": {
     "iopub.execute_input": "2020-08-23T12:43:17.018747Z",
     "iopub.status.busy": "2020-08-23T12:43:17.018095Z",
     "iopub.status.idle": "2020-08-23T12:43:19.240143Z",
     "shell.execute_reply": "2020-08-23T12:43:19.239570Z"
    },
    "papermill": {
     "duration": 2.234242,
     "end_time": "2020-08-23T12:43:19.240280",
     "exception": false,
     "start_time": "2020-08-23T12:43:17.006038",
     "status": "completed"
    },
    "tags": []
   },
   "outputs": [],
   "source": [
    "import plotly.graph_objs as go\n",
    "import plotly.figure_factory as ff\n",
    "import plotly.express as px"
   ]
  },
  {
   "cell_type": "code",
   "execution_count": 5,
   "metadata": {
    "_cell_guid": "79c7e3d0-c299-4dcb-8224-4455121ee9b0",
    "_uuid": "d629ff2d2480ee46fbb7e2d37f6b5fab8052498a",
    "execution": {
     "iopub.execute_input": "2020-08-23T12:43:19.262856Z",
     "iopub.status.busy": "2020-08-23T12:43:19.262168Z",
     "iopub.status.idle": "2020-08-23T12:43:19.304436Z",
     "shell.execute_reply": "2020-08-23T12:43:19.303698Z"
    },
    "papermill": {
     "duration": 0.058123,
     "end_time": "2020-08-23T12:43:19.304586",
     "exception": false,
     "start_time": "2020-08-23T12:43:19.246463",
     "status": "completed"
    },
    "tags": []
   },
   "outputs": [],
   "source": [
    "data = pd.read_csv('data/shootings.csv')"
   ]
  },
  {
   "cell_type": "code",
   "execution_count": 6,
   "metadata": {
    "execution": {
     "iopub.execute_input": "2020-08-23T12:43:19.337149Z",
     "iopub.status.busy": "2020-08-23T12:43:19.336434Z",
     "iopub.status.idle": "2020-08-23T12:43:19.349740Z",
     "shell.execute_reply": "2020-08-23T12:43:19.349075Z"
    },
    "papermill": {
     "duration": 0.038918,
     "end_time": "2020-08-23T12:43:19.349859",
     "exception": false,
     "start_time": "2020-08-23T12:43:19.310941",
     "status": "completed"
    },
    "tags": []
   },
   "outputs": [
    {
     "data": {
      "text/html": [
       "<div>\n",
       "<style scoped>\n",
       "    .dataframe tbody tr th:only-of-type {\n",
       "        vertical-align: middle;\n",
       "    }\n",
       "\n",
       "    .dataframe tbody tr th {\n",
       "        vertical-align: top;\n",
       "    }\n",
       "\n",
       "    .dataframe thead th {\n",
       "        text-align: right;\n",
       "    }\n",
       "</style>\n",
       "<table border=\"1\" class=\"dataframe\">\n",
       "  <thead>\n",
       "    <tr style=\"text-align: right;\">\n",
       "      <th></th>\n",
       "      <th>id</th>\n",
       "      <th>name</th>\n",
       "      <th>date</th>\n",
       "      <th>manner_of_death</th>\n",
       "      <th>armed</th>\n",
       "      <th>age</th>\n",
       "      <th>gender</th>\n",
       "      <th>race</th>\n",
       "      <th>city</th>\n",
       "      <th>state</th>\n",
       "      <th>signs_of_mental_illness</th>\n",
       "      <th>threat_level</th>\n",
       "      <th>flee</th>\n",
       "      <th>body_camera</th>\n",
       "      <th>arms_category</th>\n",
       "    </tr>\n",
       "  </thead>\n",
       "  <tbody>\n",
       "    <tr>\n",
       "      <th>0</th>\n",
       "      <td>3</td>\n",
       "      <td>Tim Elliot</td>\n",
       "      <td>2015-01-02</td>\n",
       "      <td>shot</td>\n",
       "      <td>gun</td>\n",
       "      <td>53.0</td>\n",
       "      <td>M</td>\n",
       "      <td>Asian</td>\n",
       "      <td>Shelton</td>\n",
       "      <td>WA</td>\n",
       "      <td>True</td>\n",
       "      <td>attack</td>\n",
       "      <td>Not fleeing</td>\n",
       "      <td>False</td>\n",
       "      <td>Guns</td>\n",
       "    </tr>\n",
       "    <tr>\n",
       "      <th>1</th>\n",
       "      <td>4</td>\n",
       "      <td>Lewis Lee Lembke</td>\n",
       "      <td>2015-01-02</td>\n",
       "      <td>shot</td>\n",
       "      <td>gun</td>\n",
       "      <td>47.0</td>\n",
       "      <td>M</td>\n",
       "      <td>White</td>\n",
       "      <td>Aloha</td>\n",
       "      <td>OR</td>\n",
       "      <td>False</td>\n",
       "      <td>attack</td>\n",
       "      <td>Not fleeing</td>\n",
       "      <td>False</td>\n",
       "      <td>Guns</td>\n",
       "    </tr>\n",
       "    <tr>\n",
       "      <th>2</th>\n",
       "      <td>5</td>\n",
       "      <td>John Paul Quintero</td>\n",
       "      <td>2015-01-03</td>\n",
       "      <td>shot and Tasered</td>\n",
       "      <td>unarmed</td>\n",
       "      <td>23.0</td>\n",
       "      <td>M</td>\n",
       "      <td>Hispanic</td>\n",
       "      <td>Wichita</td>\n",
       "      <td>KS</td>\n",
       "      <td>False</td>\n",
       "      <td>other</td>\n",
       "      <td>Not fleeing</td>\n",
       "      <td>False</td>\n",
       "      <td>Unarmed</td>\n",
       "    </tr>\n",
       "    <tr>\n",
       "      <th>3</th>\n",
       "      <td>8</td>\n",
       "      <td>Matthew Hoffman</td>\n",
       "      <td>2015-01-04</td>\n",
       "      <td>shot</td>\n",
       "      <td>toy weapon</td>\n",
       "      <td>32.0</td>\n",
       "      <td>M</td>\n",
       "      <td>White</td>\n",
       "      <td>San Francisco</td>\n",
       "      <td>CA</td>\n",
       "      <td>True</td>\n",
       "      <td>attack</td>\n",
       "      <td>Not fleeing</td>\n",
       "      <td>False</td>\n",
       "      <td>Other unusual objects</td>\n",
       "    </tr>\n",
       "    <tr>\n",
       "      <th>4</th>\n",
       "      <td>9</td>\n",
       "      <td>Michael Rodriguez</td>\n",
       "      <td>2015-01-04</td>\n",
       "      <td>shot</td>\n",
       "      <td>nail gun</td>\n",
       "      <td>39.0</td>\n",
       "      <td>M</td>\n",
       "      <td>Hispanic</td>\n",
       "      <td>Evans</td>\n",
       "      <td>CO</td>\n",
       "      <td>False</td>\n",
       "      <td>attack</td>\n",
       "      <td>Not fleeing</td>\n",
       "      <td>False</td>\n",
       "      <td>Piercing objects</td>\n",
       "    </tr>\n",
       "  </tbody>\n",
       "</table>\n",
       "</div>"
      ],
      "text/plain": [
       "   id                name        date   manner_of_death       armed   age  \\\n",
       "0   3          Tim Elliot  2015-01-02              shot         gun  53.0   \n",
       "1   4    Lewis Lee Lembke  2015-01-02              shot         gun  47.0   \n",
       "2   5  John Paul Quintero  2015-01-03  shot and Tasered     unarmed  23.0   \n",
       "3   8     Matthew Hoffman  2015-01-04              shot  toy weapon  32.0   \n",
       "4   9   Michael Rodriguez  2015-01-04              shot    nail gun  39.0   \n",
       "\n",
       "  gender      race           city state  signs_of_mental_illness threat_level  \\\n",
       "0      M     Asian        Shelton    WA                     True       attack   \n",
       "1      M     White          Aloha    OR                    False       attack   \n",
       "2      M  Hispanic        Wichita    KS                    False        other   \n",
       "3      M     White  San Francisco    CA                     True       attack   \n",
       "4      M  Hispanic          Evans    CO                    False       attack   \n",
       "\n",
       "          flee  body_camera          arms_category  \n",
       "0  Not fleeing        False                   Guns  \n",
       "1  Not fleeing        False                   Guns  \n",
       "2  Not fleeing        False                Unarmed  \n",
       "3  Not fleeing        False  Other unusual objects  \n",
       "4  Not fleeing        False       Piercing objects  "
      ]
     },
     "execution_count": 6,
     "metadata": {},
     "output_type": "execute_result"
    }
   ],
   "source": [
    "data.head()"
   ]
  },
  {
   "cell_type": "code",
   "execution_count": 5,
   "metadata": {
    "execution": {
     "iopub.execute_input": "2020-08-23T12:43:19.368124Z",
     "iopub.status.busy": "2020-08-23T12:43:19.367351Z",
     "iopub.status.idle": "2020-08-23T12:43:19.371278Z",
     "shell.execute_reply": "2020-08-23T12:43:19.370794Z"
    },
    "papermill": {
     "duration": 0.015181,
     "end_time": "2020-08-23T12:43:19.371398",
     "exception": false,
     "start_time": "2020-08-23T12:43:19.356217",
     "status": "completed"
    },
    "tags": []
   },
   "outputs": [
    {
     "data": {
      "text/plain": [
       "(4895, 15)"
      ]
     },
     "execution_count": 5,
     "metadata": {},
     "output_type": "execute_result"
    }
   ],
   "source": [
    "data.shape"
   ]
  },
  {
   "cell_type": "code",
   "execution_count": 6,
   "metadata": {
    "execution": {
     "iopub.execute_input": "2020-08-23T12:43:19.389626Z",
     "iopub.status.busy": "2020-08-23T12:43:19.388875Z",
     "iopub.status.idle": "2020-08-23T12:43:19.393772Z",
     "shell.execute_reply": "2020-08-23T12:43:19.393143Z"
    },
    "papermill": {
     "duration": 0.016088,
     "end_time": "2020-08-23T12:43:19.393885",
     "exception": false,
     "start_time": "2020-08-23T12:43:19.377797",
     "status": "completed"
    },
    "tags": []
   },
   "outputs": [
    {
     "data": {
      "text/plain": [
       "Index(['id', 'name', 'date', 'manner_of_death', 'armed', 'age', 'gender',\n",
       "       'race', 'city', 'state', 'signs_of_mental_illness', 'threat_level',\n",
       "       'flee', 'body_camera', 'arms_category'],\n",
       "      dtype='object')"
      ]
     },
     "execution_count": 6,
     "metadata": {},
     "output_type": "execute_result"
    }
   ],
   "source": [
    "data.columns"
   ]
  },
  {
   "cell_type": "code",
   "execution_count": 7,
   "metadata": {
    "execution": {
     "iopub.execute_input": "2020-08-23T12:43:19.414703Z",
     "iopub.status.busy": "2020-08-23T12:43:19.414026Z",
     "iopub.status.idle": "2020-08-23T12:43:19.420224Z",
     "shell.execute_reply": "2020-08-23T12:43:19.419740Z"
    },
    "papermill": {
     "duration": 0.019899,
     "end_time": "2020-08-23T12:43:19.420343",
     "exception": false,
     "start_time": "2020-08-23T12:43:19.400444",
     "status": "completed"
    },
    "tags": []
   },
   "outputs": [
    {
     "data": {
      "text/plain": [
       "id                         0\n",
       "name                       0\n",
       "date                       0\n",
       "manner_of_death            0\n",
       "armed                      0\n",
       "age                        0\n",
       "gender                     0\n",
       "race                       0\n",
       "city                       0\n",
       "state                      0\n",
       "signs_of_mental_illness    0\n",
       "threat_level               0\n",
       "flee                       0\n",
       "body_camera                0\n",
       "arms_category              0\n",
       "dtype: int64"
      ]
     },
     "execution_count": 7,
     "metadata": {},
     "output_type": "execute_result"
    }
   ],
   "source": [
    "data.isnull().sum()"
   ]
  },
  {
   "cell_type": "code",
   "execution_count": 8,
   "metadata": {
    "execution": {
     "iopub.execute_input": "2020-08-23T12:43:19.441976Z",
     "iopub.status.busy": "2020-08-23T12:43:19.441055Z",
     "iopub.status.idle": "2020-08-23T12:43:19.445473Z",
     "shell.execute_reply": "2020-08-23T12:43:19.444831Z"
    },
    "papermill": {
     "duration": 0.018785,
     "end_time": "2020-08-23T12:43:19.445592",
     "exception": false,
     "start_time": "2020-08-23T12:43:19.426807",
     "status": "completed"
    },
    "tags": []
   },
   "outputs": [
    {
     "data": {
      "text/plain": [
       "White       2476\n",
       "Black       1298\n",
       "Hispanic     902\n",
       "Asian         93\n",
       "Native        78\n",
       "Other         48\n",
       "Name: race, dtype: int64"
      ]
     },
     "execution_count": 8,
     "metadata": {},
     "output_type": "execute_result"
    }
   ],
   "source": [
    "data['race'].value_counts()"
   ]
  },
  {
   "cell_type": "code",
   "execution_count": 7,
   "metadata": {
    "execution": {
     "iopub.execute_input": "2020-08-23T12:43:19.472140Z",
     "iopub.status.busy": "2020-08-23T12:43:19.471210Z",
     "iopub.status.idle": "2020-08-23T12:43:19.492796Z",
     "shell.execute_reply": "2020-08-23T12:43:19.492049Z"
    },
    "papermill": {
     "duration": 0.040745,
     "end_time": "2020-08-23T12:43:19.492924",
     "exception": false,
     "start_time": "2020-08-23T12:43:19.452179",
     "status": "completed"
    },
    "tags": []
   },
   "outputs": [],
   "source": [
    "data[\"date\"] = pd.to_datetime(data[\"date\"])\n",
    "data[\"weekday\"] = data[\"date\"].dt.weekday\n",
    "data['month'] = data['date'].dt.month\n",
    "data['month_day'] = data['date'].dt.day\n",
    "data['year'] = data['date'].dt.year\n",
    "data['month_year'] = pd.to_datetime(data['date']).dt.to_period('M')\n"
   ]
  },
  {
   "cell_type": "code",
   "execution_count": 10,
   "metadata": {},
   "outputs": [
    {
     "data": {
      "text/html": [
       "<div>\n",
       "<style scoped>\n",
       "    .dataframe tbody tr th:only-of-type {\n",
       "        vertical-align: middle;\n",
       "    }\n",
       "\n",
       "    .dataframe tbody tr th {\n",
       "        vertical-align: top;\n",
       "    }\n",
       "\n",
       "    .dataframe thead th {\n",
       "        text-align: right;\n",
       "    }\n",
       "</style>\n",
       "<table border=\"1\" class=\"dataframe\">\n",
       "  <thead>\n",
       "    <tr style=\"text-align: right;\">\n",
       "      <th></th>\n",
       "      <th>id</th>\n",
       "      <th>name</th>\n",
       "      <th>date</th>\n",
       "      <th>manner_of_death</th>\n",
       "      <th>armed</th>\n",
       "      <th>age</th>\n",
       "      <th>gender</th>\n",
       "      <th>race</th>\n",
       "      <th>city</th>\n",
       "      <th>state</th>\n",
       "      <th>signs_of_mental_illness</th>\n",
       "      <th>threat_level</th>\n",
       "      <th>flee</th>\n",
       "      <th>body_camera</th>\n",
       "      <th>arms_category</th>\n",
       "      <th>weekday</th>\n",
       "      <th>month</th>\n",
       "      <th>month_day</th>\n",
       "      <th>year</th>\n",
       "      <th>month_year</th>\n",
       "    </tr>\n",
       "  </thead>\n",
       "  <tbody>\n",
       "    <tr>\n",
       "      <th>0</th>\n",
       "      <td>3</td>\n",
       "      <td>Tim Elliot</td>\n",
       "      <td>2015-01-02</td>\n",
       "      <td>shot</td>\n",
       "      <td>gun</td>\n",
       "      <td>53.0</td>\n",
       "      <td>M</td>\n",
       "      <td>Asian</td>\n",
       "      <td>Shelton</td>\n",
       "      <td>WA</td>\n",
       "      <td>True</td>\n",
       "      <td>attack</td>\n",
       "      <td>Not fleeing</td>\n",
       "      <td>False</td>\n",
       "      <td>Guns</td>\n",
       "      <td>4</td>\n",
       "      <td>1</td>\n",
       "      <td>2</td>\n",
       "      <td>2015</td>\n",
       "      <td>2015-01</td>\n",
       "    </tr>\n",
       "    <tr>\n",
       "      <th>1</th>\n",
       "      <td>4</td>\n",
       "      <td>Lewis Lee Lembke</td>\n",
       "      <td>2015-01-02</td>\n",
       "      <td>shot</td>\n",
       "      <td>gun</td>\n",
       "      <td>47.0</td>\n",
       "      <td>M</td>\n",
       "      <td>White</td>\n",
       "      <td>Aloha</td>\n",
       "      <td>OR</td>\n",
       "      <td>False</td>\n",
       "      <td>attack</td>\n",
       "      <td>Not fleeing</td>\n",
       "      <td>False</td>\n",
       "      <td>Guns</td>\n",
       "      <td>4</td>\n",
       "      <td>1</td>\n",
       "      <td>2</td>\n",
       "      <td>2015</td>\n",
       "      <td>2015-01</td>\n",
       "    </tr>\n",
       "    <tr>\n",
       "      <th>2</th>\n",
       "      <td>5</td>\n",
       "      <td>John Paul Quintero</td>\n",
       "      <td>2015-01-03</td>\n",
       "      <td>shot and Tasered</td>\n",
       "      <td>unarmed</td>\n",
       "      <td>23.0</td>\n",
       "      <td>M</td>\n",
       "      <td>Hispanic</td>\n",
       "      <td>Wichita</td>\n",
       "      <td>KS</td>\n",
       "      <td>False</td>\n",
       "      <td>other</td>\n",
       "      <td>Not fleeing</td>\n",
       "      <td>False</td>\n",
       "      <td>Unarmed</td>\n",
       "      <td>5</td>\n",
       "      <td>1</td>\n",
       "      <td>3</td>\n",
       "      <td>2015</td>\n",
       "      <td>2015-01</td>\n",
       "    </tr>\n",
       "    <tr>\n",
       "      <th>3</th>\n",
       "      <td>8</td>\n",
       "      <td>Matthew Hoffman</td>\n",
       "      <td>2015-01-04</td>\n",
       "      <td>shot</td>\n",
       "      <td>toy weapon</td>\n",
       "      <td>32.0</td>\n",
       "      <td>M</td>\n",
       "      <td>White</td>\n",
       "      <td>San Francisco</td>\n",
       "      <td>CA</td>\n",
       "      <td>True</td>\n",
       "      <td>attack</td>\n",
       "      <td>Not fleeing</td>\n",
       "      <td>False</td>\n",
       "      <td>Other unusual objects</td>\n",
       "      <td>6</td>\n",
       "      <td>1</td>\n",
       "      <td>4</td>\n",
       "      <td>2015</td>\n",
       "      <td>2015-01</td>\n",
       "    </tr>\n",
       "    <tr>\n",
       "      <th>4</th>\n",
       "      <td>9</td>\n",
       "      <td>Michael Rodriguez</td>\n",
       "      <td>2015-01-04</td>\n",
       "      <td>shot</td>\n",
       "      <td>nail gun</td>\n",
       "      <td>39.0</td>\n",
       "      <td>M</td>\n",
       "      <td>Hispanic</td>\n",
       "      <td>Evans</td>\n",
       "      <td>CO</td>\n",
       "      <td>False</td>\n",
       "      <td>attack</td>\n",
       "      <td>Not fleeing</td>\n",
       "      <td>False</td>\n",
       "      <td>Piercing objects</td>\n",
       "      <td>6</td>\n",
       "      <td>1</td>\n",
       "      <td>4</td>\n",
       "      <td>2015</td>\n",
       "      <td>2015-01</td>\n",
       "    </tr>\n",
       "  </tbody>\n",
       "</table>\n",
       "</div>"
      ],
      "text/plain": [
       "   id                name       date   manner_of_death       armed   age  \\\n",
       "0   3          Tim Elliot 2015-01-02              shot         gun  53.0   \n",
       "1   4    Lewis Lee Lembke 2015-01-02              shot         gun  47.0   \n",
       "2   5  John Paul Quintero 2015-01-03  shot and Tasered     unarmed  23.0   \n",
       "3   8     Matthew Hoffman 2015-01-04              shot  toy weapon  32.0   \n",
       "4   9   Michael Rodriguez 2015-01-04              shot    nail gun  39.0   \n",
       "\n",
       "  gender      race           city state  signs_of_mental_illness threat_level  \\\n",
       "0      M     Asian        Shelton    WA                     True       attack   \n",
       "1      M     White          Aloha    OR                    False       attack   \n",
       "2      M  Hispanic        Wichita    KS                    False        other   \n",
       "3      M     White  San Francisco    CA                     True       attack   \n",
       "4      M  Hispanic          Evans    CO                    False       attack   \n",
       "\n",
       "          flee  body_camera          arms_category  weekday  month  month_day  \\\n",
       "0  Not fleeing        False                   Guns        4      1          2   \n",
       "1  Not fleeing        False                   Guns        4      1          2   \n",
       "2  Not fleeing        False                Unarmed        5      1          3   \n",
       "3  Not fleeing        False  Other unusual objects        6      1          4   \n",
       "4  Not fleeing        False       Piercing objects        6      1          4   \n",
       "\n",
       "   year month_year  \n",
       "0  2015    2015-01  \n",
       "1  2015    2015-01  \n",
       "2  2015    2015-01  \n",
       "3  2015    2015-01  \n",
       "4  2015    2015-01  "
      ]
     },
     "execution_count": 10,
     "metadata": {},
     "output_type": "execute_result"
    }
   ],
   "source": [
    "data.head()"
   ]
  },
  {
   "cell_type": "code",
   "execution_count": 11,
   "metadata": {},
   "outputs": [
    {
     "data": {
      "text/plain": [
       "(4895, 20)"
      ]
     },
     "execution_count": 11,
     "metadata": {},
     "output_type": "execute_result"
    }
   ],
   "source": [
    "data.shape"
   ]
  },
  {
   "cell_type": "markdown",
   "metadata": {
    "papermill": {
     "duration": 0.006681,
     "end_time": "2020-08-23T12:43:19.506642",
     "exception": false,
     "start_time": "2020-08-23T12:43:19.499961",
     "status": "completed"
    },
    "tags": []
   },
   "source": [
    "# Which Race was shot the most?"
   ]
  },
  {
   "cell_type": "code",
   "execution_count": 10,
   "metadata": {
    "execution": {
     "iopub.execute_input": "2020-08-23T12:43:19.525187Z",
     "iopub.status.busy": "2020-08-23T12:43:19.524425Z",
     "iopub.status.idle": "2020-08-23T12:43:19.707024Z",
     "shell.execute_reply": "2020-08-23T12:43:19.706298Z"
    },
    "papermill": {
     "duration": 0.193924,
     "end_time": "2020-08-23T12:43:19.707154",
     "exception": false,
     "start_time": "2020-08-23T12:43:19.513230",
     "status": "completed"
    },
    "tags": []
   },
   "outputs": [
    {
     "data": {
      "text/plain": [
       "<matplotlib.axes._subplots.AxesSubplot at 0x7f86fef11f10>"
      ]
     },
     "execution_count": 10,
     "metadata": {},
     "output_type": "execute_result"
    },
    {
     "data": {
      "image/png": "[encoded data removed]",
      "text/plain": [
       "<Figure size 432x288 with 1 Axes>"
      ]
     },
     "metadata": {
      "needs_background": "light"
     },
     "output_type": "display_data"
    }
   ],
   "source": [
    "plt.title('Which race was shot the most')\n",
    "sns.countplot(data = data, x = 'race')"
   ]
  },
  {
   "cell_type": "code",
   "execution_count": 11,
   "metadata": {
    "execution": {
     "iopub.execute_input": "2020-08-23T12:43:19.729883Z",
     "iopub.status.busy": "2020-08-23T12:43:19.728899Z",
     "iopub.status.idle": "2020-08-23T12:43:19.734862Z",
     "shell.execute_reply": "2020-08-23T12:43:19.735482Z"
    },
    "papermill": {
     "duration": 0.021576,
     "end_time": "2020-08-23T12:43:19.735693",
     "exception": false,
     "start_time": "2020-08-23T12:43:19.714117",
     "status": "completed"
    },
    "tags": []
   },
   "outputs": [],
   "source": [
    "topcity = data.city.value_counts().to_frame().reset_index()\n",
    "topcity.columns = ['City','Count']\n",
    "topcity = topcity[0:5]"
   ]
  },
  {
   "cell_type": "markdown",
   "metadata": {
    "papermill": {
     "duration": 0.008523,
     "end_time": "2020-08-23T12:43:19.754658",
     "exception": false,
     "start_time": "2020-08-23T12:43:19.746135",
     "status": "completed"
    },
    "tags": []
   },
   "source": [
    "# Top 5 city with shooting counts"
   ]
  },
  {
   "cell_type": "code",
   "execution_count": 12,
   "metadata": {
    "execution": {
     "iopub.execute_input": "2020-08-23T12:43:19.779429Z",
     "iopub.status.busy": "2020-08-23T12:43:19.774524Z",
     "iopub.status.idle": "2020-08-23T12:43:19.913189Z",
     "shell.execute_reply": "2020-08-23T12:43:19.912639Z"
    },
    "papermill": {
     "duration": 0.151241,
     "end_time": "2020-08-23T12:43:19.913304",
     "exception": false,
     "start_time": "2020-08-23T12:43:19.762063",
     "status": "completed"
    },
    "tags": []
   },
   "outputs": [
    {
     "data": {
      "text/plain": [
       "<matplotlib.axes._subplots.AxesSubplot at 0x7f86fed51f10>"
      ]
     },
     "execution_count": 12,
     "metadata": {},
     "output_type": "execute_result"
    },
    {
     "data": {
      "image/png": "[encoded data removed]",
      "text/plain": [
       "<Figure size 432x288 with 1 Axes>"
      ]
     },
     "metadata": {
      "needs_background": "light"
     },
     "output_type": "display_data"
    }
   ],
   "source": [
    "plt.title('Top city with shooting counts')\n",
    "sns.barplot(data=topcity,x='City',y='Count')"
   ]
  },
  {
   "cell_type": "markdown",
   "metadata": {
    "papermill": {
     "duration": 0.007037,
     "end_time": "2020-08-23T12:43:19.927705",
     "exception": false,
     "start_time": "2020-08-23T12:43:19.920668",
     "status": "completed"
    },
    "tags": []
   },
   "source": [
    "# Was the suspect mentally ill?"
   ]
  },
  {
   "cell_type": "code",
   "execution_count": 13,
   "metadata": {
    "execution": {
     "iopub.execute_input": "2020-08-23T12:43:19.952450Z",
     "iopub.status.busy": "2020-08-23T12:43:19.946763Z",
     "iopub.status.idle": "2020-08-23T12:43:20.064052Z",
     "shell.execute_reply": "2020-08-23T12:43:20.063376Z"
    },
    "papermill": {
     "duration": 0.12937,
     "end_time": "2020-08-23T12:43:20.064168",
     "exception": false,
     "start_time": "2020-08-23T12:43:19.934798",
     "status": "completed"
    },
    "tags": []
   },
   "outputs": [
    {
     "data": {
      "text/plain": [
       "<matplotlib.axes._subplots.AxesSubplot at 0x7f86fec7bcd0>"
      ]
     },
     "execution_count": 13,
     "metadata": {},
     "output_type": "execute_result"
    },
    {
     "data": {
      "image/png": "[encoded data removed]",
      "text/plain": [
       "<Figure size 432x288 with 1 Axes>"
      ]
     },
     "metadata": {
      "needs_background": "light"
     },
     "output_type": "display_data"
    }
   ],
   "source": [
    "plt.title('Was the shot person mentally ill?')\n",
    "sns.countplot(data = data, x = 'signs_of_mental_illness')"
   ]
  },
  {
   "cell_type": "markdown",
   "metadata": {
    "papermill": {
     "duration": 0.007365,
     "end_time": "2020-08-23T12:43:20.079238",
     "exception": false,
     "start_time": "2020-08-23T12:43:20.071873",
     "status": "completed"
    },
    "tags": []
   },
   "source": [
    "# Threat Level of the Suspect"
   ]
  },
  {
   "cell_type": "code",
   "execution_count": 14,
   "metadata": {
    "execution": {
     "iopub.execute_input": "2020-08-23T12:43:20.106067Z",
     "iopub.status.busy": "2020-08-23T12:43:20.105198Z",
     "iopub.status.idle": "2020-08-23T12:43:20.215170Z",
     "shell.execute_reply": "2020-08-23T12:43:20.214596Z"
    },
    "papermill": {
     "duration": 0.128226,
     "end_time": "2020-08-23T12:43:20.215288",
     "exception": false,
     "start_time": "2020-08-23T12:43:20.087062",
     "status": "completed"
    },
    "tags": []
   },
   "outputs": [
    {
     "data": {
      "text/plain": [
       "<matplotlib.axes._subplots.AxesSubplot at 0x7f86fec5a390>"
      ]
     },
     "execution_count": 14,
     "metadata": {},
     "output_type": "execute_result"
    },
    {
     "data": {
      "image/png": "[encoded data removed]",
      "text/plain": [
       "<Figure size 432x288 with 1 Axes>"
      ]
     },
     "metadata": {
      "needs_background": "light"
     },
     "output_type": "display_data"
    }
   ],
   "source": [
    "plt.title('Threat Level Of the Suspect')\n",
    "sns.countplot(data = data, x = 'threat_level')"
   ]
  },
  {
   "cell_type": "markdown",
   "metadata": {
    "papermill": {
     "duration": 0.007673,
     "end_time": "2020-08-23T12:43:20.231148",
     "exception": false,
     "start_time": "2020-08-23T12:43:20.223475",
     "status": "completed"
    },
    "tags": []
   },
   "source": [
    "# Number of suspect trying to flee"
   ]
  },
  {
   "cell_type": "code",
   "execution_count": 15,
   "metadata": {
    "execution": {
     "iopub.execute_input": "2020-08-23T12:43:20.256641Z",
     "iopub.status.busy": "2020-08-23T12:43:20.251579Z",
     "iopub.status.idle": "2020-08-23T12:43:20.376438Z",
     "shell.execute_reply": "2020-08-23T12:43:20.375863Z"
    },
    "papermill": {
     "duration": 0.137713,
     "end_time": "2020-08-23T12:43:20.376577",
     "exception": false,
     "start_time": "2020-08-23T12:43:20.238864",
     "status": "completed"
    },
    "tags": []
   },
   "outputs": [
    {
     "data": {
      "text/plain": [
       "<matplotlib.axes._subplots.AxesSubplot at 0x7f86febbe710>"
      ]
     },
     "execution_count": 15,
     "metadata": {},
     "output_type": "execute_result"
    },
    {
     "data": {
      "image/png": "[encoded data removed]",
      "text/plain": [
       "<Figure size 432x288 with 1 Axes>"
      ]
     },
     "metadata": {
      "needs_background": "light"
     },
     "output_type": "display_data"
    }
   ],
   "source": [
    "plt.title('Suspect Flee vs Not Flee')\n",
    "sns.countplot(data = data, x = 'flee')"
   ]
  },
  {
   "cell_type": "code",
   "execution_count": 16,
   "metadata": {
    "execution": {
     "iopub.execute_input": "2020-08-23T12:43:20.399944Z",
     "iopub.status.busy": "2020-08-23T12:43:20.398857Z",
     "iopub.status.idle": "2020-08-23T12:43:20.587573Z",
     "shell.execute_reply": "2020-08-23T12:43:20.586910Z"
    },
    "papermill": {
     "duration": 0.202207,
     "end_time": "2020-08-23T12:43:20.587696",
     "exception": false,
     "start_time": "2020-08-23T12:43:20.385489",
     "status": "completed"
    },
    "tags": []
   },
   "outputs": [
    {
     "data": {
      "text/plain": [
       "<matplotlib.axes._subplots.AxesSubplot at 0x7f86feb33490>"
      ]
     },
     "execution_count": 16,
     "metadata": {},
     "output_type": "execute_result"
    },
    {
     "data": {
      "image/png": "[encoded data removed]",
      "text/plain": [
       "<Figure size 720x432 with 1 Axes>"
      ]
     },
     "metadata": {
      "needs_background": "light"
     },
     "output_type": "display_data"
    }
   ],
   "source": [
    "plt.figure(figsize=(10,6))\n",
    "plt.title('Suspect Flee vs Not Flee')\n",
    "sns.countplot(data = data, y = 'arms_category')"
   ]
  },
  {
   "cell_type": "markdown",
   "metadata": {
    "papermill": {
     "duration": 0.008483,
     "end_time": "2020-08-23T12:43:20.605492",
     "exception": false,
     "start_time": "2020-08-23T12:43:20.597009",
     "status": "completed"
    },
    "tags": []
   },
   "source": [
    "# Manner of death"
   ]
  },
  {
   "cell_type": "code",
   "execution_count": 17,
   "metadata": {
    "execution": {
     "iopub.execute_input": "2020-08-23T12:43:20.633164Z",
     "iopub.status.busy": "2020-08-23T12:43:20.632155Z",
     "iopub.status.idle": "2020-08-23T12:43:20.734255Z",
     "shell.execute_reply": "2020-08-23T12:43:20.733655Z"
    },
    "papermill": {
     "duration": 0.120362,
     "end_time": "2020-08-23T12:43:20.734370",
     "exception": false,
     "start_time": "2020-08-23T12:43:20.614008",
     "status": "completed"
    },
    "tags": []
   },
   "outputs": [
    {
     "data": {
      "text/plain": [
       "<matplotlib.axes._subplots.AxesSubplot at 0x7f86feac1b90>"
      ]
     },
     "execution_count": 17,
     "metadata": {},
     "output_type": "execute_result"
    },
    {
     "data": {
      "image/png": "[encoded data removed]",
      "text/plain": [
       "<Figure size 432x288 with 1 Axes>"
      ]
     },
     "metadata": {
      "needs_background": "light"
     },
     "output_type": "display_data"
    }
   ],
   "source": [
    "plt.title('Manner of Death')\n",
    "sns.countplot(data = data, x = 'manner_of_death')"
   ]
  },
  {
   "cell_type": "code",
   "execution_count": 18,
   "metadata": {
    "execution": {
     "iopub.execute_input": "2020-08-23T12:43:20.770971Z",
     "iopub.status.busy": "2020-08-23T12:43:20.764625Z",
     "iopub.status.idle": "2020-08-23T12:43:20.967235Z",
     "shell.execute_reply": "2020-08-23T12:43:20.966698Z"
    },
    "papermill": {
     "duration": 0.223542,
     "end_time": "2020-08-23T12:43:20.967357",
     "exception": false,
     "start_time": "2020-08-23T12:43:20.743815",
     "status": "completed"
    },
    "tags": []
   },
   "outputs": [
    {
     "data": {
      "text/plain": [
       "<matplotlib.axes._subplots.AxesSubplot at 0x7f86fea99c50>"
      ]
     },
     "execution_count": 18,
     "metadata": {},
     "output_type": "execute_result"
    },
    {
     "data": {
      "image/png": "[encoded data removed]",
      "text/plain": [
       "<Figure size 504x360 with 1 Axes>"
      ]
     },
     "metadata": {
      "needs_background": "light"
     },
     "output_type": "display_data"
    }
   ],
   "source": [
    "plt.figure(figsize=(7,5))\n",
    "plt.title('Age Distribution')\n",
    "sns.distplot(data['age'],kde = False)"
   ]
  },
  {
   "cell_type": "code",
   "execution_count": 19,
   "metadata": {
    "execution": {
     "iopub.execute_input": "2020-08-23T12:43:20.993324Z",
     "iopub.status.busy": "2020-08-23T12:43:20.992282Z",
     "iopub.status.idle": "2020-08-23T12:43:21.001670Z",
     "shell.execute_reply": "2020-08-23T12:43:21.001055Z"
    },
    "papermill": {
     "duration": 0.02474,
     "end_time": "2020-08-23T12:43:21.001795",
     "exception": false,
     "start_time": "2020-08-23T12:43:20.977055",
     "status": "completed"
    },
    "tags": []
   },
   "outputs": [],
   "source": [
    "monthlydeaths = data.groupby(['month_year'])['name'].count().reset_index()\n",
    "monthlydeaths.columns = ['month_year', 'count']\n",
    "monthlydeaths['month_year'] = monthlydeaths['month_year'].astype(str)"
   ]
  },
  {
   "cell_type": "code",
   "execution_count": 20,
   "metadata": {
    "execution": {
     "iopub.execute_input": "2020-08-23T12:43:21.138021Z",
     "iopub.status.busy": "2020-08-23T12:43:21.134055Z",
     "iopub.status.idle": "2020-08-23T12:43:21.321643Z",
     "shell.execute_reply": "2020-08-23T12:43:21.320955Z"
    },
    "papermill": {
     "duration": 0.310629,
     "end_time": "2020-08-23T12:43:21.321771",
     "exception": false,
     "start_time": "2020-08-23T12:43:21.011142",
     "status": "completed"
    },
    "tags": []
   },
   "outputs": [
    {
     "data": {
      "text/plain": [
       "<matplotlib.axes._subplots.AxesSubplot at 0x7f86fe9850d0>"
      ]
     },
     "execution_count": 20,
     "metadata": {},
     "output_type": "execute_result"
    },
    {
     "data": {
      "image/png": "[encoded data removed]",
      "text/plain": [
       "<Figure size 432x288 with 1 Axes>"
      ]
     },
     "metadata": {
      "needs_background": "light"
     },
     "output_type": "display_data"
    }
   ],
   "source": [
    "sns.lineplot(data=monthlydeaths['count'])"
   ]
  },
  {
   "cell_type": "code",
   "execution_count": null,
   "metadata": {
    "papermill": {
     "duration": 0.009518,
     "end_time": "2020-08-23T12:43:21.341909",
     "exception": false,
     "start_time": "2020-08-23T12:43:21.332391",
     "status": "completed"
    },
    "tags": []
   },
   "outputs": [],
   "source": []
  }
 ],
 "metadata": {
  "kernelspec": {
   "display_name": "Python 3.10.2 64-bit",
   "language": "python",
   "name": "python3"
  },
  "language_info": {
   "codemirror_mode": {
    "name": "ipython",
    "version": 3
   },
   "file_extension": ".py",
   "mimetype": "text/x-python",
   "name": "python",
   "nbconvert_exporter": "python",
   "pygments_lexer": "ipython3",
   "version": "3.10.2"
  },
  "papermill": {
   "duration": 10.816575,
   "end_time": "2020-08-23T12:43:22.367894",
   "environment_variables": {},
   "exception": null,
   "input_path": "__notebook__.ipynb",
   "output_path": "__notebook__.ipynb",
   "parameters": {},
   "start_time": "2020-08-23T12:43:11.551319",
   "version": "2.1.0"
  },
  "vscode": {
   "interpreter": {
    "hash": "d37065769f20b5d70981d17fd943b3150d5cf7af966e63e90e7d2c13da419248"
   }
  }
 },
 "nbformat": 4,
 "nbformat_minor": 4
}
